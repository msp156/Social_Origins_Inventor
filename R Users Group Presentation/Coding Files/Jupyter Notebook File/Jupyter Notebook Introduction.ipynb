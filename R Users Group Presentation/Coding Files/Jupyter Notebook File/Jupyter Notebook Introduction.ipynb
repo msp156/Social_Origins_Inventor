{
 "cells": [
  {
   "cell_type": "code",
   "execution_count": null,
   "id": "97aed82f",
   "metadata": {},
   "outputs": [],
   "source": [
    "#This is the Jupyter Notebook Interface"
   ]
  },
  {
   "cell_type": "code",
   "execution_count": null,
   "id": "ccd85cdb",
   "metadata": {},
   "outputs": [],
   "source": [
    "#<-This is called a kernel. It stores your program into bitsize readable chunks. "
   ]
  },
  {
   "cell_type": "code",
   "execution_count": 4,
   "id": "9398d980",
   "metadata": {},
   "outputs": [
    {
     "data": {
      "text/html": [
       "<table>\n",
       "<tbody>\n",
       "\t<tr><td>1</td><td>2</td><td>3</td><td>4</td><td>5</td><td>6</td></tr>\n",
       "</tbody>\n",
       "</table>\n"
      ],
      "text/latex": [
       "\\begin{tabular}{llllll}\n",
       "\t 1 & 2 & 3 & 4 & 5 & 6\\\\\n",
       "\\end{tabular}\n"
      ],
      "text/markdown": [
       "\n",
       "| 1 | 2 | 3 | 4 | 5 | 6 |\n",
       "\n"
      ],
      "text/plain": [
       "     [,1] [,2] [,3] [,4] [,5] [,6]\n",
       "[1,] 1    2    3    4    5    6   "
      ]
     },
     "metadata": {},
     "output_type": "display_data"
    },
    {
     "data": {
      "text/html": [
       "<table>\n",
       "<tbody>\n",
       "\t<tr><td>2 </td><td>4 </td><td>6 </td><td>8 </td><td>10</td><td>12</td></tr>\n",
       "</tbody>\n",
       "</table>\n"
      ],
      "text/latex": [
       "\\begin{tabular}{llllll}\n",
       "\t 2  & 4  & 6  & 8  & 10 & 12\\\\\n",
       "\\end{tabular}\n"
      ],
      "text/markdown": [
       "\n",
       "| 2  | 4  | 6  | 8  | 10 | 12 |\n",
       "\n"
      ],
      "text/plain": [
       "     [,1] [,2] [,3] [,4] [,5] [,6]\n",
       "[1,] 2    4    6    8    10   12  "
      ]
     },
     "metadata": {},
     "output_type": "display_data"
    }
   ],
   "source": [
    "#If you write a R program in the kernel and click the run key, It will display your program below:\n",
    "x<-cbind(1,2,3,4,5,6)\n",
    "x\n",
    "\n",
    "x*2"
   ]
  },
  {
   "cell_type": "code",
   "execution_count": null,
   "id": "f20cc05b",
   "metadata": {},
   "outputs": [],
   "source": [
    "#The notebook automatically saves your program and files. No need to worry about saving it down\n",
    "#If you would like to add a cell and start programming, click the plus button "
   ]
  }
 ],
 "metadata": {
  "kernelspec": {
   "display_name": "R",
   "language": "R",
   "name": "ir"
  },
  "language_info": {
   "codemirror_mode": "r",
   "file_extension": ".r",
   "mimetype": "text/x-r-source",
   "name": "R",
   "pygments_lexer": "r",
   "version": "3.6.1"
  }
 },
 "nbformat": 4,
 "nbformat_minor": 5
}
